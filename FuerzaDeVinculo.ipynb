{
  "nbformat": 4,
  "nbformat_minor": 0,
  "metadata": {
    "colab": {
      "name": "Untitled1.ipynb",
      "provenance": [],
      "authorship_tag": "ABX9TyO0IFPlcQBGZtrbnDUvdYr+",
      "include_colab_link": true
    },
    "kernelspec": {
      "name": "python3",
      "display_name": "Python 3"
    }
  },
  "cells": [
    {
      "cell_type": "markdown",
      "metadata": {
        "id": "view-in-github",
        "colab_type": "text"
      },
      "source": [
        "<a href=\"https://colab.research.google.com/github/monticp/Ejercicio_Oscilaciones_Phyton/blob/main/FuerzaDeVinculo.ipynb\" target=\"_parent\"><img src=\"https://colab.research.google.com/assets/colab-badge.svg\" alt=\"Open In Colab\"/></a>"
      ]
    },
    {
      "cell_type": "code",
      "metadata": {
        "id": "S1fQ4yabX11H",
        "outputId": "6e44b493-d25a-47a7-8e12-fccede14d3b9",
        "colab": {
          "base_uri": "https://localhost:8080/",
          "height": 279
        }
      },
      "source": [
        "import numpy as np\n",
        "import math as mt\n",
        "\n",
        "m = 1.0\n",
        "g = 9.8\n",
        "k = 60.0\n",
        "R = 1.0\n",
        "tita0 = np.pi/2\n",
        "titaf = 2*np.pi\n",
        "\n",
        "def fuerza_vinculo (m, g, k, R, tita):\n",
        "  Fv = 3*m*g*np.cos(tita) + 2*k*R*mt.pow(np.sin(tita),2) - k*R\n",
        "  return Fv\n",
        "\n",
        "def plot_fv_x (tita, Fv):\n",
        "  import matplotlib.pyplot as plt\n",
        "  plt.plot(tita,Fv,'r,-')\n",
        "  plt.xlabel('tita')\n",
        "  plt.ylabel('Fv [N]')\n",
        "\n",
        "def build_array_Fv (tita, m, g, k, R, dim):\n",
        "  Fv = np.zeros(dim)\n",
        "  for i in range(dim):\n",
        "    Fv[i] = fuerza_vinculo(m,g,k,R,tita[i])\n",
        "  return Fv\n",
        "\n",
        "def plot_fv_range (m,g,k,R,tita0,titaf,gap):\n",
        "  dim = mt.floor((titaf-tita0)/gap)\n",
        "  tita = np.linspace(tita0, titaf, dim)\n",
        "  Fv = build_array_Fv(tita,m,g,k,R,dim)\n",
        "  plot_fv_x(tita, Fv)\n",
        "\n",
        "plot_fv_range (m,g,k,R,tita0,titaf,0.01)"
      ],
      "execution_count": 89,
      "outputs": [
        {
          "output_type": "display_data",
          "data": {
            "image/png": "[encoded data removed]",
            "text/plain": [
              "<Figure size 432x288 with 1 Axes>"
            ]
          },
          "metadata": {
            "tags": [],
            "needs_background": "light"
          }
        }
      ]
    }
  ]
}